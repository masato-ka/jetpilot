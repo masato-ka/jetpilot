{
 "cells": [
  {
   "cell_type": "code",
   "execution_count": null,
   "metadata": {},
   "outputs": [],
   "source": [
    "import os\n",
    "import PIL\n",
    "import numpy as np\n",
    "import cv2\n",
    "import torch\n",
    "import torchvision\n",
    "import torch.nn.functional as F\n",
    "import torchvision.transforms as transforms\n",
    "\n",
    "import traitlets\n",
    "import ipywidgets.widgets as widgets\n",
    "from IPython.display import display\n",
    "\n",
    "from jetbot import Robot, Camera, bgr8_to_jpeg\n",
    "from mobile import MobileController"
   ]
  },
  {
   "cell_type": "code",
   "execution_count": null,
   "metadata": {},
   "outputs": [],
   "source": [
    "\n",
    "mean = torch.Tensor([0.485, 0.456, 0.406]).cuda().half()\n",
    "std = torch.Tensor([0.229, 0.224, 0.225]).cuda().half()"
   ]
  },
  {
   "cell_type": "code",
   "execution_count": null,
   "metadata": {},
   "outputs": [],
   "source": [
    "def _preprocess(image):\n",
    "        image = PIL.Image.fromarray(image)\n",
    "        image = transforms.functional.to_tensor(image)\n",
    "        image = image.numpy()[::-1].copy()\n",
    "        image = torch.from_numpy(image).to(device).half()\n",
    "        image.sub_(mean[:, None, None]).div_(std[:, None, None])\n",
    "        return image[None, ...]"
   ]
  },
  {
   "cell_type": "code",
   "execution_count": null,
   "metadata": {},
   "outputs": [],
   "source": [
    "# Initialize DL model\n",
    "\n",
    "MODEL_PATH = 'best_steering_model_ResNet.pth'\n",
    "model = torchvision.models.resnet18(pretrained=False)\n",
    "model.fc = torch.nn.Linear(512, 2)\n",
    "device = torch.device('cuda')\n",
    "model.load_state_dict(torch.load(MODEL_PATH))\n",
    "model = model.to(device)\n",
    "model = model.eval().half()\n"
   ]
  },
  {
   "cell_type": "code",
   "execution_count": null,
   "metadata": {},
   "outputs": [],
   "source": [
    "#Initialize Jetbot\n",
    "WHEEL_TRACK = 10\n",
    "robot = Robot()\n",
    "# MobileControllerはコントローラからの操作性を上げるため、速度値を一定の範囲で丸め込む。\n",
    "# しかし、推論時では丸こめ処理で期待した速度と変わるため推論時結果の速度をそのままロボットへ伝えるためpass_throughフラグをTrueにする。\n",
    "mobile_controller = MobileController(WHEEL_TRACK, robot, pass_through=True)"
   ]
  },
  {
   "cell_type": "code",
   "execution_count": null,
   "metadata": {},
   "outputs": [],
   "source": [
    "# Prepare gage widgets.\n",
    "\n",
    "speed = widgets.FloatSlider(min=-1.0, max=1.0, description='speed')\n",
    "steering = widgets.FloatSlider(min=-1.0, max=1.0, description='steering')\n",
    "\n",
    "traitlets.dlink((mobile_controller, 'speed'), (speed,'value'))\n",
    "traitlets.dlink((mobile_controller, 'radius'), (steering, 'value'))"
   ]
  },
  {
   "cell_type": "code",
   "execution_count": null,
   "metadata": {},
   "outputs": [],
   "source": [
    "#Camera initialize\n",
    "camera = Camera.instance(fps=10, width=224, height=224)\n",
    "image = widgets.Image(format='jpeg', width=224, height=224)\n",
    "camera_link = traitlets.dlink((camera,'value'), (image,'value'), transform=bgr8_to_jpeg)"
   ]
  },
  {
   "cell_type": "code",
   "execution_count": null,
   "metadata": {},
   "outputs": [],
   "source": [
    "layout = widgets.Layout(width='100px', height='64px')\n",
    "\n",
    "panel = widgets.VBox([speed, steering])\n",
    "display(widgets.HBox([panel,image]))"
   ]
  },
  {
   "cell_type": "code",
   "execution_count": null,
   "metadata": {},
   "outputs": [],
   "source": [
    "def update(change):\n",
    "    image = _preprocess(change['new'])\n",
    "    xy = model(image).detach().float().cpu().numpy().flatten()\n",
    "    slottle = xy[0]\n",
    "    handle = xy[1]\n",
    "    mobile_controller.set_control(float(slottle), float(handle))\n",
    "\n",
    "update({'new':camera.value})\n"
   ]
  },
  {
   "cell_type": "code",
   "execution_count": null,
   "metadata": {},
   "outputs": [],
   "source": [
    "camera.observe(update, names='value')"
   ]
  },
  {
   "cell_type": "code",
   "execution_count": null,
   "metadata": {},
   "outputs": [],
   "source": [
    "camera.unobserve(update, names='value')\n",
    "camera_link.unlink()\n",
    "robot.stop()"
   ]
  },
  {
   "cell_type": "code",
   "execution_count": null,
   "metadata": {},
   "outputs": [],
   "source": [
    "robot.stop()"
   ]
  },
  {
   "cell_type": "code",
   "execution_count": null,
   "metadata": {},
   "outputs": [],
   "source": []
  }
 ],
 "metadata": {
  "kernelspec": {
   "display_name": "Python 3",
   "language": "python",
   "name": "python3"
  },
  "language_info": {
   "codemirror_mode": {
    "name": "ipython",
    "version": 3
   },
   "file_extension": ".py",
   "mimetype": "text/x-python",
   "name": "python",
   "nbconvert_exporter": "python",
   "pygments_lexer": "ipython3",
   "version": "3.6.8"
  }
 },
 "nbformat": 4,
 "nbformat_minor": 2
}
